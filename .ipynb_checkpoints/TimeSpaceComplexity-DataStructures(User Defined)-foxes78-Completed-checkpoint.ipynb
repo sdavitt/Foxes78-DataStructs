{
 "cells": [
  {
   "cell_type": "markdown",
   "metadata": {},
   "source": [
    "# Time/Space Complexity - Intro to Data Structures (User Defined)\n",
    "\n",
    "### Topics to discuss today:\n",
    "\n",
    "<ul>\n",
    "    <li>Time and Space Complexity - What is it/How do we measure it</li>\n",
    "    <li>Asymptotic Analysis</li>\n",
    "    <li><strong>Data Structures</strong></li>\n",
    "    <li>Some of the popular sorting algorithms</li>\n",
    "</ul>\n",
    "\n",
    "### Data Structures to discuss:\n",
    "- Arrays\n",
    "- Stacks\n",
    "- Queues\n",
    "- Linked Lists\n",
    "    - Singly Linked Lists\n",
    "    - Traversing A Linked List\n",
    "    - Finding a node in a linked list\n",
    "    - Adding to a linked list\n"
   ]
  },
  {
   "cell_type": "markdown",
   "metadata": {},
   "source": [
    "## Time and Space Complexity\n",
    "\n",
    "#### What is it?\n",
    "\n",
    "Time and space complexity is the measure of how much time a given action(function) will take to solve a problem. In the same fashion, we determine how much a given data structure will need in terms of memory allocation. A problem can have multiple solutions and finding the optimal solution for the problem needs to be analyzed in time and space.\n",
    "\n",
    "#### How do we measure Time and Space Complexity?\n",
    "\n",
    "In order to measure time and space complexity we use Asymptotic analysis. The reason for this is because we need a way to measure different algorithms (functions) based on the size of their inputs in a mathmatical way. For example, we could have a function that is computed as f(n) and another that is g(n^2). All things around the function staying constant, the only thing that changes is the size of the input. Below is the chart that shows the different Asymptotic analysis formats. "
   ]
  },
  {
   "cell_type": "code",
   "execution_count": null,
   "metadata": {},
   "outputs": [],
   "source": [
    "# asymptotic analysis focuses on analyzing our time/space complexity as our number of inputs scales toward infinity\n",
    "    # aka we only care about really large numbers of inputs\n",
    "    # the benefit of this is that we can do so hand-wavy simplification\n",
    "    # any change in our time complexity that is not exponential is ignored\n",
    "        # we're following the idea/principle that infinity * infinity = infinity^2\n",
    "        # but infinity + infinity or 2*infinity = infinity\n",
    "        \n",
    "        # remember back to the example of 2 separate for loops vs. nested for loops\n",
    "            # 2 separate for loops always increases steps by 2 for each additional input\n",
    "            # where as for nested for loops we have an ever increasing impact of each additional input"
   ]
  },
  {
   "cell_type": "markdown",
   "metadata": {},
   "source": [
    "<table style=\"text-align:center;\" class=\"table table-bordered\">\n",
    "<tbody><tr>\n",
    "<td>constant</td>\n",
    "<td>−</td>\n",
    "<td>Ο(1)</td>\n",
    "</tr>\n",
    "<tr>\n",
    "<td>logarithmic</td>\n",
    "<td>−</td>\n",
    "<td>Ο(log n)</td>\n",
    "</tr>\n",
    "<tr>\n",
    "<td>linear</td>\n",
    "<td>−</td>\n",
    "<td>Ο(n)</td>\n",
    "</tr>\n",
    "<tr>\n",
    "<td>Linear Logarithmic</td>\n",
    "<td>−</td>\n",
    "<td>Ο(n log n)</td>\n",
    "</tr>\n",
    "<tr>\n",
    "<td>quadratic</td>\n",
    "<td>−</td>\n",
    "<td>Ο(n<sup>2</sup>)</td>\n",
    "</tr>\n",
    "<tr>\n",
    "<td>cubic</td>\n",
    "<td>−</td>\n",
    "<td>Ο(n<sup>3</sup>)</td>\n",
    "</tr>\n",
    "<tr>\n",
    "<td>polynomial</td>\n",
    "<td>−</td>\n",
    "<td>n<sup>Ο(1)</sup></td>\n",
    "</tr>\n",
    "<tr>\n",
    "<td>exponential</td>\n",
    "<td>−</td>\n",
    "<td>2<sup>Ο(n)</sup></td>\n",
    "</tr>\n",
    "</tbody></table>"
   ]
  },
  {
   "cell_type": "markdown",
   "metadata": {},
   "source": [
    "## Arrays"
   ]
  },
  {
   "cell_type": "markdown",
   "metadata": {},
   "source": [
    "In python we benefit from the dynamic array which means the block of memory will expand as needed for the given input to the array. In traditional arrays (depending on the type of operating system) we will usually store our inputs in 4 or 8 consecutive blocks of memory. Below is a diagram of how that looks under the hood:\n",
    "\n",
    "<img src=\"http://www.mathcs.emory.edu/~cheung/Courses/170/Syllabus/09/FIGS/array02x.gif\" style=\"height:250px; width:350px;\">"
   ]
  },
  {
   "cell_type": "markdown",
   "metadata": {},
   "source": [
    "## Which in python looks like this:"
   ]
  },
  {
   "cell_type": "code",
   "execution_count": 1,
   "metadata": {},
   "outputs": [
    {
     "name": "stdout",
     "output_type": "stream",
     "text": [
      "['Fennec Fox', 'Arctic Fox', 'Tibetan Fox', 'Red Fox', 'Grey Fox', 8]\n"
     ]
    }
   ],
   "source": [
    "mylist = ['Fennec Fox', 'Arctic Fox', 'Tibetan Fox', 'Red Fox', 'Grey Fox']\n",
    "\n",
    "# dynamic increases in array size are allowed\n",
    "mylist.append(8)\n",
    "# different datatypes are allowed in the same array\n",
    "print(mylist)"
   ]
  },
  {
   "cell_type": "markdown",
   "metadata": {},
   "source": [
    "### Let's take a look at some of the time and space analysis of arrays"
   ]
  },
  {
   "cell_type": "code",
   "execution_count": 7,
   "metadata": {},
   "outputs": [
    {
     "name": "stdout",
     "output_type": "stream",
     "text": [
      "['Fennec Fox', 'Desert Fox', 'Arctic Fox', 'Tibetan Fox', 'Red Fox']\n"
     ]
    }
   ],
   "source": [
    "# creation of a list - linear process for the total number of values in the list - O(n) time and space\n",
    "mylist = ['Fennec Fox', 'Arctic Fox', 'Tibetan Fox', 'Red Fox', 'Grey Fox']\n",
    "# copying a list - linear process - O(n) time and space\n",
    "listcopy = mylist[::]\n",
    "\n",
    "# indexing into a list - O(1) constant time operation\n",
    "mylist[3]\n",
    "\n",
    "# searching a list/looping a list - O(n) linear time processes - we have to take a step for each item in the list\n",
    "for i in mylist:\n",
    "    pass\n",
    "mylist.index('Red Fox')\n",
    "mylist.count('Grey Fox')\n",
    "if 'Panda' in mylist: # membership test in a list O(n)\n",
    "    pass\n",
    "\n",
    "# adding a value to a list - efficiency depends on where you are adding the value\n",
    "mylist.insert(1, 'Desert Fox') # O(n) linear time process unless adding to the end of the list\n",
    "#print(mylist)\n",
    "mylist.append('Panda') # O(1)* usually a constant time process to add the end of the list\n",
    "    # technically called an amortized O(1) process\n",
    "    # meaning it is usually a constant time O(1) process, but can be a linear O(n) process\n",
    "\n",
    "# removing a value from a list\n",
    "# .remove() - removes based on a value - O(n) -> must search for the value then move other values\n",
    "mylist.remove('Panda')\n",
    "# .pop() - removes based on an index number -> no searching required\n",
    "# the default behavior of .pop() is to remove the last value in the list - O(1) constant time\n",
    "mylist.pop()\n",
    "# mylist.pop(0) - popping from the front of the list is a O(n) linear process - must move all the other values\n",
    "\n",
    "# list comprehensions - why are they the preferred method for creating a list from another iterable?\n",
    "# the answer comes down to that they are more memory efficient\n",
    "\n",
    "# non-list comprehension - taking advantage of the dynamic array sizing\n",
    "# aka the list is getting larger each time we append\n",
    "# and we run the risk of needing to move the entire list in memory if we run out of consecutive memory locations\n",
    "newlist = [] # 1\n",
    "for i in mylist: # O(n)\n",
    "    newlist.append(i) # O(1)*\n",
    "print(newlist)\n",
    "\n",
    "# with a list comprehension, python knows the maximum possible size of the new list\n",
    "# with a list comprehension, max size of new list is the size of the old list\n",
    "# so, python can pick a memory location ahead of time with enough consecutive memory slots for the new list\n",
    "# meaning with a list comprehension, there is no risk of having to move the entire list partway through creation\n",
    "newlist = [x for x in mylist]\n",
    "# thats why list comprehension are considered best practice for creating a list from another iterable\n",
    "# list comprehension (depending on your transformation or conditional) - O(n) linear time and space\n"
   ]
  },
  {
   "cell_type": "markdown",
   "metadata": {},
   "source": [
    "## Stacks and Queues\n",
    "\n",
    "** Stacks ** as the name suggests is a data structure that allows for data to follow the Last In First Out priciple(LIFO). Think of a stack of pancakes for example. To get the first pancake you would  start with the top and go down.\n",
    "\n",
    "##### Searching through a stack will be Linear Time O(n) - Constant Space O(1)\n",
    "##### Selecting the last item will be done in Constant Time O(1) - Constant Space O(1)\n",
    "##### Adding to the stack should take Constant Time O(1) - Constant Space O(1)\n",
    "\n",
    "** Queues ** are similar but in this case follow the First In First Out principle(FIFO). Think of this as a line in a black friday sale. The first person camped out for the big screen tv is the first to get it.\n",
    "\n",
    "##### Searching through a queue will be Linear Time O(n) - Constant Space O(1)\n",
    "##### Selecting the first item will be done in Constant Time O(1) - Constant Space O(1)\n",
    "##### Adding to the queue should take Constant Time O(1) - Constant Space O(1)"
   ]
  },
  {
   "cell_type": "code",
   "execution_count": 10,
   "metadata": {},
   "outputs": [
    {
     "name": "stdout",
     "output_type": "stream",
     "text": [
      "deque([])\n",
      "deque(['Panda', 'Fennec Fox'])\n",
      "deque(['Fennec Fox'])\n"
     ]
    }
   ],
   "source": [
    "# adding and removing from the end of a stack is a constant time O(1) operation\n",
    "# python lists are an implementation of a stack - .append() and .pop()\n",
    "mylist = ['a', 'b', 'c']\n",
    "mylist.append('d') # adding to the end of the list O(1)*\n",
    "mylist.pop() # removal from the end of list in O(1)\n",
    "\n",
    "# differently - a queue only needs to support constant time removal from the front of the queue\n",
    "# and constant time adding to the end of the queue\n",
    "# in other words, a python list is NOT a queue -> python lists do not support O(1) constant time removal from the start\n",
    "# python has no built-in implementation of a queue\n",
    "# if you have a scenario where you need a queue, I personally use the collections module deque\n",
    "\n",
    "from collections import deque\n",
    "\n",
    "mydeque = deque()\n",
    "print(mydeque)\n",
    "mydeque.append('Fennec Fox')\n",
    "mydeque.appendleft('Panda')\n",
    "print(mydeque)\n",
    "mydeque.popleft()\n",
    "print(mydeque)"
   ]
  },
  {
   "cell_type": "markdown",
   "metadata": {},
   "source": [
    "## Linked List (Data Structure)\n",
    "\n",
    "A linked list is created by using the node class. We create a Node object and create another class to use this node object. We pass the appropriate values thorugh the node object to point the to the next data elements.\n",
    "\n",
    "There are some advantages and disadvantages with this data structure. **Advantages** Linked Lists can save memory because they can be flexibile with memory management which saves memory. **Disadvantages** Finding or adding to the list requires traversing the entire list."
   ]
  },
  {
   "cell_type": "code",
   "execution_count": 3,
   "metadata": {},
   "outputs": [],
   "source": [
    "# A implementation of a singly-linked list\n",
    "\n",
    "# 2 components - a Node class and LinkedList class\n",
    "\n",
    "class Node:\n",
    "    def __init__(self, value):\n",
    "        self.value = value\n",
    "        self.next = None\n",
    "\n",
    "class LinkedList:\n",
    "    def __init__(self):\n",
    "        self.head = None\n",
    "    \n",
    "    def pushOn(self, new_value):\n",
    "        \"\"\"\n",
    "        O(1)\n",
    "        adding a head/changing to a new head for the linked list\n",
    "        \"\"\"\n",
    "        # create a new node\n",
    "        new_node = Node(new_value)\n",
    "        # set the new node's next to the current head\n",
    "        new_node.next = self.head\n",
    "        # set the head to the new node\n",
    "        self.head = new_node\n",
    "    \n",
    "    def insertAfter(self, prev_node, new_value):\n",
    "        \"\"\"\n",
    "        O(1)\n",
    "        inserting a value after a specific node in our linked list\n",
    "        \"\"\"\n",
    "        if not prev_node:\n",
    "            print(\"The given previous node must exist!\")\n",
    "            return\n",
    "        \n",
    "        # if the previous node does exist, then we need to create the new node\n",
    "        new_node = Node(new_value)\n",
    "        \n",
    "        # update the new node's next value\n",
    "        new_node.next = prev_node.next\n",
    "        # update the prev_node's next value\n",
    "        prev_node.next = new_node\n",
    "    \n",
    "    def append(self, new_value):\n",
    "        \"\"\"\n",
    "        O(n) Θ(n) Ω(n)\n",
    "        adding a new value to the end of the linked list\n",
    "        \"\"\"\n",
    "        new_node = Node(new_value)\n",
    "        \n",
    "        # check if the linkedList even has values - if there is no head, we just use this new node as the head\n",
    "        if self.head is None:\n",
    "            self.head = new_node\n",
    "            return\n",
    "        # BUT if the linkedList is not empty, we must traverse until we find the end\n",
    "        last = self.head\n",
    "        while last.next:\n",
    "            last = last.next\n",
    "        \n",
    "        # once the loop is done, we've found the last node\n",
    "        # change the current last node's next to the new node\n",
    "        last.next = new_node\n",
    "        \n",
    "    def traverse(self):\n",
    "        \"\"\"\n",
    "        one step for each item in the linked list - linear\n",
    "        O(n) Θ(n) Ω(n)\n",
    "        run through all of our values in the linked list\n",
    "        \"\"\"\n",
    "        pointer = self.head\n",
    "        while pointer:\n",
    "            print(f'The day of the week is: {pointer.value}.')\n",
    "            pointer = pointer.next\n",
    "    \n",
    "    def search(self, target):\n",
    "        \"\"\"\n",
    "        O(n) Θ(n) Ω(1)\n",
    "        determine if a value is in our linked list\n",
    "        \"\"\"\n",
    "        pointer = self.head\n",
    "        while pointer:\n",
    "            if pointer.value == target:\n",
    "                print(f'{target} was found in the LinkedList!')\n",
    "                return\n",
    "            pointer = pointer.next\n",
    "        print(f'{target} was not in the LinkedList :(')"
   ]
  },
  {
   "cell_type": "code",
   "execution_count": 6,
   "metadata": {},
   "outputs": [
    {
     "name": "stdout",
     "output_type": "stream",
     "text": [
      "None\n",
      "Monday\n",
      "Sunday Monday\n",
      "Sunday Monday Tuesday\n",
      "Sunday Monday Tuesday Wednesday\n",
      "The day of the week is: Sunday.\n",
      "The day of the week is: Monday.\n",
      "The day of the week is: Tuesday.\n",
      "The day of the week is: Wednesday.\n",
      "Friday was not in the LinkedList :(\n",
      "The day of the week is: Sunday.\n",
      "The day of the week is: Monday.\n",
      "The day of the week is: Tuesday.\n",
      "The day of the week is: Wednesday.\n",
      "The day of the week is: Thursday.\n",
      "The day of the week is: Friday.\n",
      "The day of the week is: Saturday.\n",
      "Friday was found in the LinkedList!\n",
      "Friday\n"
     ]
    }
   ],
   "source": [
    "weekdays = LinkedList()\n",
    "print(weekdays.head)\n",
    "weekdays.pushOn('Monday')\n",
    "print(weekdays.head.value)\n",
    "weekdays.pushOn('Sunday') # change head to Sunday, Sunday node now points to the old head (Monday)\n",
    "print(weekdays.head.value, weekdays.head.next.value)\n",
    "# insert Tuesday after Monday\n",
    "# the only access we have to the LinkedList is through the head\n",
    "# so we know Monday as weekdays.head.next\n",
    "weekdays.insertAfter(weekdays.head.next, 'Tuesday')\n",
    "print(weekdays.head.value, weekdays.head.next.value, weekdays.head.next.next.value)\n",
    "# let's try appending to the end of the linkedlist\n",
    "weekdays.append('Wednesday')\n",
    "print(weekdays.head.value, weekdays.head.next.value, weekdays.head.next.next.value, weekdays.head.next.next.next.value)\n",
    "\n",
    "weekdays.traverse()\n",
    "\n",
    "weekdays.search('Friday')\n",
    "\n",
    "weekdays.append('Thursday')\n",
    "weekdays.append('Friday')\n",
    "weekdays.append('Saturday')\n",
    "weekdays.traverse()\n",
    "weekdays.search('Friday')\n",
    "\n",
    "print(weekdays.head.next.next.next.next.next.value)"
   ]
  },
  {
   "cell_type": "code",
   "execution_count": null,
   "metadata": {},
   "outputs": [],
   "source": []
  }
 ],
 "metadata": {
  "kernelspec": {
   "display_name": "Python 3",
   "language": "python",
   "name": "python3"
  },
  "language_info": {
   "codemirror_mode": {
    "name": "ipython",
    "version": 3
   },
   "file_extension": ".py",
   "mimetype": "text/x-python",
   "name": "python",
   "nbconvert_exporter": "python",
   "pygments_lexer": "ipython3",
   "version": "3.8.8"
  }
 },
 "nbformat": 4,
 "nbformat_minor": 2
}
